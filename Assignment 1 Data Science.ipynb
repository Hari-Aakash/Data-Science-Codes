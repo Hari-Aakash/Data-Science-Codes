{
 "cells": [
  {
   "cell_type": "code",
   "execution_count": 1,
   "id": "b4dd8240-9761-41fd-b439-30306f66ef77",
   "metadata": {},
   "outputs": [
    {
     "name": "stdout",
     "output_type": "stream",
     "text": [
      "Simple Interest: 150.0\n",
      "Compound Interest: 157.62500000000023\n"
     ]
    }
   ],
   "source": [
    "def simple_interest(principal, rate, time):\n",
    "  return (principal * rate * time)\n",
    "def compound_interest(principal, rate, time, n=1):\n",
    "  amount = principal * (1 + (rate / n)) ** (n * time)\n",
    "  return amount - principal\n",
    "principal = 1000\n",
    "rate = 0.05  # 5% interest rate\n",
    "time = 3\n",
    "simple_interest_amount = simple_interest(principal, rate, time)\n",
    "print(\"Simple Interest:\", simple_interest_amount)\n",
    "compound_interest_amount = compound_interest(principal, rate, time)\n",
    "print(\"Compound Interest:\", compound_interest_amount)"
   ]
  },
  {
   "cell_type": "code",
   "execution_count": 2,
   "id": "cd1faa6a-6f07-4b3c-a24d-562f495f652e",
   "metadata": {},
   "outputs": [
    {
     "name": "stdout",
     "output_type": "stream",
     "text": [
      "The 10th Fibonacci number is: 55\n"
     ]
    }
   ],
   "source": [
    "def fibonacci(n):\n",
    "  if n <= 1:\n",
    "    return n\n",
    "  else:\n",
    "    return fibonacci(n-1) + fibonacci(n-2)\n",
    "n = 10  \n",
    "fib_number = fibonacci(n)\n",
    "print(f\"The {n}th Fibonacci number is: {fib_number}\")"
   ]
  },
  {
   "cell_type": "code",
   "execution_count": 3,
   "id": "13d2b1ad-1473-418d-92ab-660dd467d468",
   "metadata": {},
   "outputs": [
    {
     "name": "stdout",
     "output_type": "stream",
     "text": [
      "1 \n",
      "1 2 \n",
      "1 2 3 \n",
      "1 2 3 4 \n",
      "1 2 3 4 5 \n",
      "1 2 3 4 5 6 \n",
      "1 2 3 4 5 6 7 \n"
     ]
    }
   ],
   "source": [
    "def pattern(rows):\n",
    "  for i in range(1, rows + 1):\n",
    "    for j in range(1, i + 1):\n",
    "      print(j, end=\" \")\n",
    "    print()\n",
    "rows = 7\n",
    "pattern(rows)"
   ]
  },
  {
   "cell_type": "code",
   "execution_count": 4,
   "id": "cbf2f3cb-bc9a-45a2-a384-dbbb46e33955",
   "metadata": {},
   "outputs": [
    {
     "name": "stdout",
     "output_type": "stream",
     "text": [
      "1 1 1 1 1 1 1 \n",
      "2 2 2 2 2 2 \n",
      "3 3 3 3 3 \n",
      "4 4 4 4 \n",
      "5 5 5 \n",
      "6 6 \n",
      "7 \n"
     ]
    }
   ],
   "source": [
    "def pattern(rows):\n",
    "  for i in range(1,8):\n",
    "    for j in range(8-i):\n",
    "      print(i, end=\" \")\n",
    "    print()\n",
    "pattern(rows)\n"
   ]
  },
  {
   "cell_type": "code",
   "execution_count": null,
   "id": "9f1512d0-29ef-4dc0-b776-5627982868ed",
   "metadata": {},
   "outputs": [],
   "source": []
  }
 ],
 "metadata": {
  "kernelspec": {
   "display_name": "Python 3 (ipykernel)",
   "language": "python",
   "name": "python3"
  },
  "language_info": {
   "codemirror_mode": {
    "name": "ipython",
    "version": 3
   },
   "file_extension": ".py",
   "mimetype": "text/x-python",
   "name": "python",
   "nbconvert_exporter": "python",
   "pygments_lexer": "ipython3",
   "version": "3.12.7"
  }
 },
 "nbformat": 4,
 "nbformat_minor": 5
}
